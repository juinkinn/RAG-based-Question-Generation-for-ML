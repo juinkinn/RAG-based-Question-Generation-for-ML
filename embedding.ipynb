{
 "cells": [
  {
   "cell_type": "code",
   "execution_count": 1,
   "id": "7e3c74ec",
   "metadata": {
    "execution": {
     "iopub.execute_input": "2025-05-14T04:57:52.467444Z",
     "iopub.status.busy": "2025-05-14T04:57:52.467241Z",
     "iopub.status.idle": "2025-05-14T04:58:21.418040Z",
     "shell.execute_reply": "2025-05-14T04:58:21.417471Z",
     "shell.execute_reply.started": "2025-05-14T04:57:52.467427Z"
    },
    "trusted": true
   },
   "outputs": [
    {
     "name": "stderr",
     "output_type": "stream",
     "text": [
      "2025-05-14 04:58:08.043362: E external/local_xla/xla/stream_executor/cuda/cuda_fft.cc:477] Unable to register cuFFT factory: Attempting to register factory for plugin cuFFT when one has already been registered\n",
      "WARNING: All log messages before absl::InitializeLog() is called are written to STDERR\n",
      "E0000 00:00:1747198688.230019      35 cuda_dnn.cc:8310] Unable to register cuDNN factory: Attempting to register factory for plugin cuDNN when one has already been registered\n",
      "E0000 00:00:1747198688.285047      35 cuda_blas.cc:1418] Unable to register cuBLAS factory: Attempting to register factory for plugin cuBLAS when one has already been registered\n"
     ]
    }
   ],
   "source": [
    "import pandas as pd\n",
    "from bs4 import BeautifulSoup\n",
    "from sentence_transformers import SentenceTransformer"
   ]
  },
  {
   "cell_type": "code",
   "execution_count": 3,
   "id": "c1f13a67",
   "metadata": {
    "execution": {
     "iopub.execute_input": "2025-05-14T04:58:36.901985Z",
     "iopub.status.busy": "2025-05-14T04:58:36.901711Z",
     "iopub.status.idle": "2025-05-14T04:58:36.943000Z",
     "shell.execute_reply": "2025-05-14T04:58:36.942417Z",
     "shell.execute_reply.started": "2025-05-14T04:58:36.901963Z"
    },
    "trusted": true
   },
   "outputs": [
    {
     "data": {
      "text/html": [
       "<div>\n",
       "<style scoped>\n",
       "    .dataframe tbody tr th:only-of-type {\n",
       "        vertical-align: middle;\n",
       "    }\n",
       "\n",
       "    .dataframe tbody tr th {\n",
       "        vertical-align: top;\n",
       "    }\n",
       "\n",
       "    .dataframe thead th {\n",
       "        text-align: right;\n",
       "    }\n",
       "</style>\n",
       "<table border=\"1\" class=\"dataframe\">\n",
       "  <thead>\n",
       "    <tr style=\"text-align: right;\">\n",
       "      <th></th>\n",
       "      <th>Title</th>\n",
       "      <th>Article Body</th>\n",
       "    </tr>\n",
       "  </thead>\n",
       "  <tbody>\n",
       "    <tr>\n",
       "      <th>0</th>\n",
       "      <td>Linear Regression</td>\n",
       "      <td>Linear Regression\\n¶\\nIntroduction\\nSimple reg...</td>\n",
       "    </tr>\n",
       "    <tr>\n",
       "      <th>1</th>\n",
       "      <td>Gradient Descent</td>\n",
       "      <td>Gradient Descent\\n¶\\nGradient descent is an op...</td>\n",
       "    </tr>\n",
       "    <tr>\n",
       "      <th>2</th>\n",
       "      <td>Logistic Regression</td>\n",
       "      <td>Logistic Regression\\n¶\\nIntroduction\\nComparis...</td>\n",
       "    </tr>\n",
       "    <tr>\n",
       "      <th>3</th>\n",
       "      <td>Glossary</td>\n",
       "      <td>Glossary\\n¶\\nDefinitions of common machine lea...</td>\n",
       "    </tr>\n",
       "    <tr>\n",
       "      <th>4</th>\n",
       "      <td>Calculus</td>\n",
       "      <td>Calculus\\n¶\\nIntroduction\\nDerivatives\\nGeomet...</td>\n",
       "    </tr>\n",
       "    <tr>\n",
       "      <th>5</th>\n",
       "      <td>Linear Algebra</td>\n",
       "      <td>Linear Algebra\\n¶\\nVectors\\nNotation\\nVectors ...</td>\n",
       "    </tr>\n",
       "    <tr>\n",
       "      <th>6</th>\n",
       "      <td>Probability (TODO)</td>\n",
       "      <td>Probability\\n¶\\nLinks\\nScreenshots\\nLicense\\nB...</td>\n",
       "    </tr>\n",
       "    <tr>\n",
       "      <th>7</th>\n",
       "      <td>Statistics (TODO)</td>\n",
       "      <td>Statistics\\n¶\\nBasic concepts in statistics fo...</td>\n",
       "    </tr>\n",
       "    <tr>\n",
       "      <th>8</th>\n",
       "      <td>Notation</td>\n",
       "      <td>Notation\\n¶\\nCommonly used math symbols in mac...</td>\n",
       "    </tr>\n",
       "    <tr>\n",
       "      <th>9</th>\n",
       "      <td>Concepts</td>\n",
       "      <td>Concepts\\n¶\\nNeural Network\\nNeuron\\nSynapse\\n...</td>\n",
       "    </tr>\n",
       "    <tr>\n",
       "      <th>10</th>\n",
       "      <td>Forwardpropagation</td>\n",
       "      <td>Forwardpropagation\\n¶\\nSimple Network\\nSteps\\n...</td>\n",
       "    </tr>\n",
       "    <tr>\n",
       "      <th>11</th>\n",
       "      <td>Backpropagation</td>\n",
       "      <td>Backpropagation\\n¶\\nChain rule refresher\\nAppl...</td>\n",
       "    </tr>\n",
       "    <tr>\n",
       "      <th>12</th>\n",
       "      <td>Activation Functions</td>\n",
       "      <td>Activation Functions\\n¶\\nLinear\\nELU\\nReLU\\nLe...</td>\n",
       "    </tr>\n",
       "    <tr>\n",
       "      <th>13</th>\n",
       "      <td>Layers</td>\n",
       "      <td>Layers\\n¶\\nBatchNorm\\nConvolution\\nDropout\\nPo...</td>\n",
       "    </tr>\n",
       "    <tr>\n",
       "      <th>14</th>\n",
       "      <td>Loss Functions</td>\n",
       "      <td>Loss Functions\\n¶\\nCross-Entropy\\nHinge\\nHuber...</td>\n",
       "    </tr>\n",
       "    <tr>\n",
       "      <th>15</th>\n",
       "      <td>Optimizers</td>\n",
       "      <td>Optimizers\\n¶\\nWhat is Optimizer ?\\nIt is very...</td>\n",
       "    </tr>\n",
       "    <tr>\n",
       "      <th>16</th>\n",
       "      <td>Regularization</td>\n",
       "      <td>Regularization\\n¶\\nData Augmentation\\nDropout\\...</td>\n",
       "    </tr>\n",
       "    <tr>\n",
       "      <th>17</th>\n",
       "      <td>Architectures</td>\n",
       "      <td>Architectures\\n¶\\nAutoencoder\\nCNN\\nGAN\\nMLP\\n...</td>\n",
       "    </tr>\n",
       "    <tr>\n",
       "      <th>18</th>\n",
       "      <td>Classification</td>\n",
       "      <td>Classification Algorithms\\n¶\\nClassification p...</td>\n",
       "    </tr>\n",
       "    <tr>\n",
       "      <th>19</th>\n",
       "      <td>Clustering</td>\n",
       "      <td>Clustering Algorithms\\n¶\\nCentroid\\n¶\\nBe the ...</td>\n",
       "    </tr>\n",
       "    <tr>\n",
       "      <th>20</th>\n",
       "      <td>Regression</td>\n",
       "      <td>Regression Algorithms\\n¶\\nOrdinary Least Squar...</td>\n",
       "    </tr>\n",
       "    <tr>\n",
       "      <th>21</th>\n",
       "      <td>Reinforcement Learning</td>\n",
       "      <td>Reinforcement Learning\\n¶\\nIn machine learning...</td>\n",
       "    </tr>\n",
       "    <tr>\n",
       "      <th>22</th>\n",
       "      <td>Datasets</td>\n",
       "      <td>Datasets\\n¶\\nPublic datasets in vision, nlp an...</td>\n",
       "    </tr>\n",
       "    <tr>\n",
       "      <th>23</th>\n",
       "      <td>Libraries</td>\n",
       "      <td>Libraries\\n¶\\nMachine learning libraries and f...</td>\n",
       "    </tr>\n",
       "    <tr>\n",
       "      <th>24</th>\n",
       "      <td>Papers</td>\n",
       "      <td>Papers\\n¶\\nMachine Learning\\nDeep Learning\\nUn...</td>\n",
       "    </tr>\n",
       "    <tr>\n",
       "      <th>25</th>\n",
       "      <td>Other</td>\n",
       "      <td>Other Content\\n¶\\nBooks, blogs, courses and mo...</td>\n",
       "    </tr>\n",
       "    <tr>\n",
       "      <th>26</th>\n",
       "      <td>How to contribute</td>\n",
       "      <td>Contribute\\n¶\\nBecome a contributor! Check out...</td>\n",
       "    </tr>\n",
       "  </tbody>\n",
       "</table>\n",
       "</div>"
      ],
      "text/plain": [
       "                     Title                                       Article Body\n",
       "0        Linear Regression  Linear Regression\\n¶\\nIntroduction\\nSimple reg...\n",
       "1         Gradient Descent  Gradient Descent\\n¶\\nGradient descent is an op...\n",
       "2      Logistic Regression  Logistic Regression\\n¶\\nIntroduction\\nComparis...\n",
       "3                 Glossary  Glossary\\n¶\\nDefinitions of common machine lea...\n",
       "4                 Calculus  Calculus\\n¶\\nIntroduction\\nDerivatives\\nGeomet...\n",
       "5           Linear Algebra  Linear Algebra\\n¶\\nVectors\\nNotation\\nVectors ...\n",
       "6       Probability (TODO)  Probability\\n¶\\nLinks\\nScreenshots\\nLicense\\nB...\n",
       "7        Statistics (TODO)  Statistics\\n¶\\nBasic concepts in statistics fo...\n",
       "8                 Notation  Notation\\n¶\\nCommonly used math symbols in mac...\n",
       "9                 Concepts  Concepts\\n¶\\nNeural Network\\nNeuron\\nSynapse\\n...\n",
       "10      Forwardpropagation  Forwardpropagation\\n¶\\nSimple Network\\nSteps\\n...\n",
       "11         Backpropagation  Backpropagation\\n¶\\nChain rule refresher\\nAppl...\n",
       "12    Activation Functions  Activation Functions\\n¶\\nLinear\\nELU\\nReLU\\nLe...\n",
       "13                  Layers  Layers\\n¶\\nBatchNorm\\nConvolution\\nDropout\\nPo...\n",
       "14          Loss Functions  Loss Functions\\n¶\\nCross-Entropy\\nHinge\\nHuber...\n",
       "15              Optimizers  Optimizers\\n¶\\nWhat is Optimizer ?\\nIt is very...\n",
       "16          Regularization  Regularization\\n¶\\nData Augmentation\\nDropout\\...\n",
       "17           Architectures  Architectures\\n¶\\nAutoencoder\\nCNN\\nGAN\\nMLP\\n...\n",
       "18          Classification  Classification Algorithms\\n¶\\nClassification p...\n",
       "19              Clustering  Clustering Algorithms\\n¶\\nCentroid\\n¶\\nBe the ...\n",
       "20              Regression  Regression Algorithms\\n¶\\nOrdinary Least Squar...\n",
       "21  Reinforcement Learning  Reinforcement Learning\\n¶\\nIn machine learning...\n",
       "22                Datasets  Datasets\\n¶\\nPublic datasets in vision, nlp an...\n",
       "23               Libraries  Libraries\\n¶\\nMachine learning libraries and f...\n",
       "24                  Papers  Papers\\n¶\\nMachine Learning\\nDeep Learning\\nUn...\n",
       "25                   Other  Other Content\\n¶\\nBooks, blogs, courses and mo...\n",
       "26       How to contribute  Contribute\\n¶\\nBecome a contributor! Check out..."
      ]
     },
     "execution_count": 3,
     "metadata": {},
     "output_type": "execute_result"
    }
   ],
   "source": [
    "df = pd.read_csv('/kaggle/input/data-ml/ml_cheatsheet_articles.csv')\n",
    "df"
   ]
  },
  {
   "cell_type": "markdown",
   "id": "32ea6848",
   "metadata": {},
   "source": [
    "Clear ```html``` related elements"
   ]
  },
  {
   "cell_type": "code",
   "execution_count": 4,
   "id": "5a5452c1",
   "metadata": {
    "execution": {
     "iopub.execute_input": "2025-05-14T04:58:36.944240Z",
     "iopub.status.busy": "2025-05-14T04:58:36.944026Z",
     "iopub.status.idle": "2025-05-14T04:58:36.974149Z",
     "shell.execute_reply": "2025-05-14T04:58:36.973602Z",
     "shell.execute_reply.started": "2025-05-14T04:58:36.944224Z"
    },
    "trusted": true
   },
   "outputs": [],
   "source": [
    "def clean_html_body(text):\n",
    "    if isinstance(text, str):\n",
    "        soup = BeautifulSoup(text, \"html.parser\")\n",
    "        clean_text = soup.get_text(separator=\"\\n\", strip=True)\n",
    "        clean_text = \" \".join(clean_text.splitlines())\n",
    "        clean_text = ' '.join(clean_text.split())\n",
    "        return clean_text\n",
    "    return text\n",
    "\n",
    "df['Article Body'] = df['Article Body'].apply(clean_html_body)\n"
   ]
  },
  {
   "cell_type": "markdown",
   "id": "b8a4c658",
   "metadata": {},
   "source": [
    "Encode article bodies by ```multi-qa-mpnet-base-dot-v1```"
   ]
  },
  {
   "cell_type": "code",
   "execution_count": null,
   "id": "dfd68899",
   "metadata": {
    "execution": {
     "iopub.execute_input": "2025-05-14T04:58:36.975252Z",
     "iopub.status.busy": "2025-05-14T04:58:36.974967Z",
     "iopub.status.idle": "2025-05-14T04:58:53.646299Z",
     "shell.execute_reply": "2025-05-14T04:58:53.645709Z",
     "shell.execute_reply.started": "2025-05-14T04:58:36.975236Z"
    },
    "trusted": true
   },
   "outputs": [
    {
     "data": {
      "application/vnd.jupyter.widget-view+json": {
       "model_id": "287df589a7194005a3758d0b9e622790",
       "version_major": 2,
       "version_minor": 0
      },
      "text/plain": [
       "modules.json:   0%|          | 0.00/229 [00:00<?, ?B/s]"
      ]
     },
     "metadata": {},
     "output_type": "display_data"
    },
    {
     "data": {
      "application/vnd.jupyter.widget-view+json": {
       "model_id": "746f78322a434efa80469ea281224436",
       "version_major": 2,
       "version_minor": 0
      },
      "text/plain": [
       "config_sentence_transformers.json:   0%|          | 0.00/122 [00:00<?, ?B/s]"
      ]
     },
     "metadata": {},
     "output_type": "display_data"
    },
    {
     "data": {
      "application/vnd.jupyter.widget-view+json": {
       "model_id": "2e935e5c1b6c427bb9b7a5edac77b9c1",
       "version_major": 2,
       "version_minor": 0
      },
      "text/plain": [
       "README.md:   0%|          | 0.00/3.55k [00:00<?, ?B/s]"
      ]
     },
     "metadata": {},
     "output_type": "display_data"
    },
    {
     "data": {
      "application/vnd.jupyter.widget-view+json": {
       "model_id": "f63b51b27fbd40d7b76ebe40a508c649",
       "version_major": 2,
       "version_minor": 0
      },
      "text/plain": [
       "sentence_bert_config.json:   0%|          | 0.00/53.0 [00:00<?, ?B/s]"
      ]
     },
     "metadata": {},
     "output_type": "display_data"
    },
    {
     "data": {
      "application/vnd.jupyter.widget-view+json": {
       "model_id": "872b9e769be646dbad68937e872d631d",
       "version_major": 2,
       "version_minor": 0
      },
      "text/plain": [
       "config.json:   0%|          | 0.00/718 [00:00<?, ?B/s]"
      ]
     },
     "metadata": {},
     "output_type": "display_data"
    },
    {
     "data": {
      "application/vnd.jupyter.widget-view+json": {
       "model_id": "2fbbcab10c594cfaa986f2a01252640a",
       "version_major": 2,
       "version_minor": 0
      },
      "text/plain": [
       "model.safetensors:   0%|          | 0.00/328M [00:00<?, ?B/s]"
      ]
     },
     "metadata": {},
     "output_type": "display_data"
    },
    {
     "data": {
      "application/vnd.jupyter.widget-view+json": {
       "model_id": "ddaaf9535a59410dac12a7ac4cd3bd92",
       "version_major": 2,
       "version_minor": 0
      },
      "text/plain": [
       "tokenizer_config.json:   0%|          | 0.00/1.32k [00:00<?, ?B/s]"
      ]
     },
     "metadata": {},
     "output_type": "display_data"
    },
    {
     "data": {
      "application/vnd.jupyter.widget-view+json": {
       "model_id": "546c22daab5042ef8a21920fd23e481d",
       "version_major": 2,
       "version_minor": 0
      },
      "text/plain": [
       "vocab.json:   0%|          | 0.00/798k [00:00<?, ?B/s]"
      ]
     },
     "metadata": {},
     "output_type": "display_data"
    },
    {
     "data": {
      "application/vnd.jupyter.widget-view+json": {
       "model_id": "495aa81c57db43d1925b655ecb1b2cd9",
       "version_major": 2,
       "version_minor": 0
      },
      "text/plain": [
       "merges.txt:   0%|          | 0.00/456k [00:00<?, ?B/s]"
      ]
     },
     "metadata": {},
     "output_type": "display_data"
    },
    {
     "data": {
      "application/vnd.jupyter.widget-view+json": {
       "model_id": "2e571204be3d4d73ad1638ebe51d7e0a",
       "version_major": 2,
       "version_minor": 0
      },
      "text/plain": [
       "tokenizer.json:   0%|          | 0.00/1.36M [00:00<?, ?B/s]"
      ]
     },
     "metadata": {},
     "output_type": "display_data"
    },
    {
     "data": {
      "application/vnd.jupyter.widget-view+json": {
       "model_id": "5639de676f204278af91f35e184c7a6b",
       "version_major": 2,
       "version_minor": 0
      },
      "text/plain": [
       "special_tokens_map.json:   0%|          | 0.00/239 [00:00<?, ?B/s]"
      ]
     },
     "metadata": {},
     "output_type": "display_data"
    },
    {
     "data": {
      "application/vnd.jupyter.widget-view+json": {
       "model_id": "477bf549db184adc88d308282e8b003b",
       "version_major": 2,
       "version_minor": 0
      },
      "text/plain": [
       "config.json:   0%|          | 0.00/190 [00:00<?, ?B/s]"
      ]
     },
     "metadata": {},
     "output_type": "display_data"
    },
    {
     "data": {
      "application/vnd.jupyter.widget-view+json": {
       "model_id": "47ef3990301442cb8d0602bf9019e351",
       "version_major": 2,
       "version_minor": 0
      },
      "text/plain": [
       "Batches:   0%|          | 0/1 [00:00<?, ?it/s]"
      ]
     },
     "metadata": {},
     "output_type": "display_data"
    }
   ],
   "source": [
    "model = SentenceTransformer('multi-qa-mpnet-base-dot-v1')\n",
    "article_bodies = df['Article Body'].tolist()\n",
    "article_vectors = model.encode(article_bodies, batch_size=32, show_progress_bar=True)\n",
    "df['vector'] = list(article_vectors)"
   ]
  },
  {
   "cell_type": "code",
   "execution_count": 6,
   "id": "85c875c4",
   "metadata": {
    "execution": {
     "iopub.execute_input": "2025-05-14T04:58:53.647695Z",
     "iopub.status.busy": "2025-05-14T04:58:53.647445Z",
     "iopub.status.idle": "2025-05-14T04:58:53.761545Z",
     "shell.execute_reply": "2025-05-14T04:58:53.760855Z",
     "shell.execute_reply.started": "2025-05-14T04:58:53.647676Z"
    },
    "trusted": true
   },
   "outputs": [],
   "source": [
    "df.to_csv('/kaggle/working/cleaned.csv', index=False)"
   ]
  }
 ],
 "metadata": {
  "kaggle": {
   "accelerator": "nvidiaTeslaT4",
   "dataSources": [
    {
     "datasetId": 7412972,
     "sourceId": 11804119,
     "sourceType": "datasetVersion"
    }
   ],
   "dockerImageVersionId": 31041,
   "isGpuEnabled": true,
   "isInternetEnabled": true,
   "language": "python",
   "sourceType": "notebook"
  },
  "kernelspec": {
   "display_name": "Python 3",
   "language": "python",
   "name": "python3"
  },
  "language_info": {
   "codemirror_mode": {
    "name": "ipython",
    "version": 3
   },
   "file_extension": ".py",
   "mimetype": "text/x-python",
   "name": "python",
   "nbconvert_exporter": "python",
   "pygments_lexer": "ipython3",
   "version": "3.11.11"
  }
 },
 "nbformat": 4,
 "nbformat_minor": 5
}
